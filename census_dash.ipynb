{
 "cells": [
  {
   "attachments": {},
   "cell_type": "markdown",
   "metadata": {},
   "source": [
    "# Census Dash (base project)"
   ]
  },
  {
   "attachments": {},
   "cell_type": "markdown",
   "metadata": {},
   "source": [
    "## Import Libraries"
   ]
  },
  {
   "cell_type": "code",
   "execution_count": 1,
   "metadata": {},
   "outputs": [],
   "source": [
    "from urllib.request import urlopen\n",
    "import json\n",
    "import pandas as pd\n",
    "import plotly.express as px\n",
    "import plotly.graph_objects as go\n",
    "import dash\n",
    "from dash import dcc\n",
    "from dash import html\n",
    "from dash.dependencies import Input, Output, State\n",
    "import dash_bootstrap_components as dbc"
   ]
  },
  {
   "attachments": {},
   "cell_type": "markdown",
   "metadata": {},
   "source": [
    "## Import Data into DataFrames"
   ]
  },
  {
   "attachments": {},
   "cell_type": "markdown",
   "metadata": {},
   "source": [
    "### \"Population & Single Race\""
   ]
  },
  {
   "cell_type": "code",
   "execution_count": 2,
   "metadata": {},
   "outputs": [],
   "source": [
    "df_dict = {} # create empty dict to append looped lists to\n",
    "for year in [2000, 2010, 2020]: # loop the list of years for the data\n",
    "    file_name = f\"{year}_county_census_data.xlsx\" # use variable to grab correct .xlsx file\n",
    "    sheet_name = \"Population & Single Race\" # pull the proper sheet\n",
    "    df = pd.read_excel(file_name, sheet_name,dtype = {'State': str, 'County': str, 'FIPS': str}) # keep these columns as strings for the mapping\n",
    "    df_dict[year] = df # everything into an dict so it can be pulled by index"
   ]
  },
  {
   "attachments": {},
   "cell_type": "markdown",
   "metadata": {},
   "source": [
    "### \"Population & Single Race - %\""
   ]
  },
  {
   "cell_type": "code",
   "execution_count": 3,
   "metadata": {},
   "outputs": [],
   "source": [
    "percent_dict = {}\n",
    "for year in [2000, 2010, 2020]:\n",
    "    file_name = f\"{year}_county_census_data.xlsx\"\n",
    "    sheet_name = \"Population & Single Race - %\"\n",
    "    percent_df = pd.read_excel(file_name, sheet_name, dtype = {'State': str, 'County': str, 'FIPS': str})\n",
    "    percent_dict[year] = percent_df"
   ]
  },
  {
   "attachments": {},
   "cell_type": "markdown",
   "metadata": {},
   "source": [
    "## Import GEOJSON"
   ]
  },
  {
   "cell_type": "code",
   "execution_count": 4,
   "metadata": {},
   "outputs": [],
   "source": [
    "with urlopen('https://raw.githubusercontent.com/plotly/datasets/master/geojson-counties-fips.json') as response:\n",
    "    counties = json.load(response)"
   ]
  },
  {
   "attachments": {},
   "cell_type": "markdown",
   "metadata": {},
   "source": [
    "## Build out app\n",
    "\n",
    "There are three maps, manipulated by a slider, that has to count for two visualizations, right?"
   ]
  },
  {
   "cell_type": "code",
   "execution_count": 5,
   "metadata": {},
   "outputs": [
    {
     "name": "stdout",
     "output_type": "stream",
     "text": [
      "Dash is running on http://127.0.0.1:8050/\n",
      "\n",
      " * Serving Flask app '__main__'\n",
      " * Debug mode: on\n"
     ]
    }
   ],
   "source": [
    "# define the app variable to update layout, callbacks, and eventually run\n",
    "app = dash.Dash(__name__, external_stylesheets=[dbc.themes.BOOTSTRAP])\n",
    "\n",
    "year_marks = {2000: '2000', 2010: '2010', 2020: '2020'} # Dict for slider marks\n",
    "\n",
    "app.layout = html.Div([\n",
    "    dcc.Slider(\n",
    "        id='year-slider',  #id for callbacks\n",
    "        min=2000,\n",
    "        max=2020,\n",
    "        step=10,\n",
    "        marks=year_marks, #slider marks to call data per year based on slider location\n",
    "        value=2000 #slider handle location when app starts or reloads, referenced by callback decorator and callback function for interoperability\n",
    "    ),\n",
    "\n",
    "    dcc.Graph(id='map-graph') # reference to the app call back component id for output, will display that component id's property\n",
    "])\n",
    "\n",
    "# Define the callback function this allows the slider handle location to update the map\n",
    "# In Dash, anytime two components need to be connected to work with eachother, they need to use callback for interactivity\n",
    "\n",
    "@app.callback( # call back decorator\n",
    "    Output(component_id='map-graph', component_property='figure'),\n",
    "    [Input(component_id='year-slider', component_property='value')]) #value is what the user selected with the slider handle location\n",
    "\n",
    "def update_output(value): # call back function, 'value' refers to the value of the component property in the callback above\n",
    "    df = df_dict[value]\n",
    "    percent_df = percent_dict[value]\n",
    "\n",
    "    fig_map = px.choropleth_mapbox(df, geojson=counties, locations='FIPS', color='Total',\n",
    "                               color_continuous_scale=\"Viridis\",\n",
    "                               range_color=(0, 100000),\n",
    "                               mapbox_style=\"carto-positron\",\n",
    "                               zoom=3, center = {\"lat\": 37.0902, \"lon\": -95.7129},\n",
    "                               opacity=0.5,\n",
    "                               labels={'Total':'Population'})\n",
    "    fig_map.update_layout(margin={\"r\":0,\"t\":0,\"l\":0,\"b\":0})\n",
    "\n",
    "    fig_map.update_traces(customdata = percent_df, hovertemplate='<br>'.join([ #percent_df coming from percent_dict\n",
    "    'Name: %{customdata[0]}',\n",
    "    'Total Population: %{customdata[1]:,}',\n",
    "    '% White: %{customdata[5]:.2f}%',\n",
    "    '% Black or African: %{customdata[6]:.2f}%',\n",
    "    '% Hispanic or Latino: %{customdata[7]:.2f}%',\n",
    "    '% American Indian and Alaska Native: %{customdata[8]:.2f}%',\n",
    "    '% Asian: %{customdata[9]:.2f}%',\n",
    "    '% Native Hawaiian and Other Pacific Islander: %{customdata[10]:.2f}%',\n",
    "    '% Some Other Race: %{customdata[11]:.2f}%'\n",
    "    ]))\n",
    "    return fig_map # assigns the returned to the component property of the app callback output \n",
    "\n",
    "if __name__ == '__main__':\n",
    "    app.run_server(debug=True, use_reloader=False) # must have use_reloader as False for .ipynb"
   ]
  }
 ],
 "metadata": {
  "kernelspec": {
   "display_name": "Census_venv",
   "language": "python",
   "name": "python3"
  },
  "language_info": {
   "codemirror_mode": {
    "name": "ipython",
    "version": 3
   },
   "file_extension": ".py",
   "mimetype": "text/x-python",
   "name": "python",
   "nbconvert_exporter": "python",
   "pygments_lexer": "ipython3",
   "version": "3.11.1"
  },
  "orig_nbformat": 4,
  "vscode": {
   "interpreter": {
    "hash": "fe4814c99e9cc11f265a2c2cf6ac09fa8e8d5474e880073432f9bea4ec879922"
   }
  }
 },
 "nbformat": 4,
 "nbformat_minor": 2
}
